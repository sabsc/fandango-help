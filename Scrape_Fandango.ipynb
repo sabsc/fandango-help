{
 "cells": [
  {
   "cell_type": "code",
   "execution_count": 192,
   "metadata": {},
   "outputs": [],
   "source": [
    "import json\n",
    "import re\n",
    "\n",
    "import requests\n",
    "import scrapy"
   ]
  },
  {
   "cell_type": "code",
   "execution_count": 193,
   "metadata": {},
   "outputs": [],
   "source": [
    "headers = {'User-Agent': 'UNC Journo Class'}"
   ]
  },
  {
   "cell_type": "code",
   "execution_count": 194,
   "metadata": {},
   "outputs": [],
   "source": [
    "dur1init = requests.get('https://www.fandango.com/durham_+nc_movietimes', headers=headers)\n",
    "body_str = dur1init.content.decode('utf-8')"
   ]
  },
  {
   "cell_type": "code",
   "execution_count": 195,
   "metadata": {},
   "outputs": [],
   "source": [
    "dur1 = requests.get('https://www.fandango.com/napi/theaterswithshowtimes?zipCode=&city=durham&state=nc&date=2018-04-11&page=1&favTheaterOnly=false&limit=10&isdesktop=true',headers=headers)\n",
    "body_str = dur1.content.decode('utf-8')\n",
    "#sel = scrapy.Selector(text=body_str)\n",
    "#table = sel.css('body').xpath('string()').extract()\n",
    "#table.json()\n",
    "json_data = json.loads(dur1.text)\n",
    "with open('durham1.json', 'w') as f:\n",
    "    json.dump(json_data, f)\n",
    "\n",
    "dur1init2 = requests.get('https://www.fandango.com/durham_+nc_movietimes?pn=2', headers=headers)\n",
    "dur2 = requests.get('https://www.fandango.com/napi/theaterswithshowtimes?zipCode=&city=durham&state=nc&date=2018-04-11&page=1&favTheaterOnly=false&limit=10&isdesktop=true',headers=headers)\n",
    "dur2.json()\n",
    "with open('durham2.json', 'w') as f:\n",
    "    json.dump(table, f)"
   ]
  },
  {
   "cell_type": "code",
   "execution_count": 6,
   "metadata": {},
   "outputs": [],
   "source": [
    "#sel = scrapy.Selector(text=body_str)"
   ]
  },
  {
   "cell_type": "code",
   "execution_count": 7,
   "metadata": {},
   "outputs": [],
   "source": [
    "#table = sel.css('table')[0]"
   ]
  },
  {
   "cell_type": "code",
   "execution_count": 8,
   "metadata": {},
   "outputs": [
    {
     "data": {
      "text/plain": [
       "<Selector xpath='descendant-or-self::table' data='<table class=\"sidearm-table sidearm-tabl'>"
      ]
     },
     "execution_count": 8,
     "metadata": {},
     "output_type": "execute_result"
    }
   ],
   "source": [
    "#table"
   ]
  },
  {
   "cell_type": "code",
   "execution_count": null,
   "metadata": {},
   "outputs": [],
   "source": []
  },
  {
   "cell_type": "code",
   "execution_count": null,
   "metadata": {},
   "outputs": [],
   "source": []
  },
  {
   "cell_type": "code",
   "execution_count": null,
   "metadata": {},
   "outputs": [],
   "source": [
    "to_dump = [p.copy() for p in players]\n",
    "for p in to_dump:\n",
    "    p.pop('sel')\n",
    "    for k in list(p.keys()):\n",
    "        if 'raw' in k:\n",
    "            p.pop(k)\n",
    "with open('scraped_players.json', 'w') as f:\n",
    "    json.dump(to_dump, f)"
   ]
  }
 ],
 "metadata": {
  "kernelspec": {
   "display_name": "Python 3",
   "language": "python",
   "name": "python3"
  },
  "language_info": {
   "codemirror_mode": {
    "name": "ipython",
    "version": 3
   },
   "file_extension": ".py",
   "mimetype": "text/x-python",
   "name": "python",
   "nbconvert_exporter": "python",
   "pygments_lexer": "ipython3",
   "version": "3.6.3"
  }
 },
 "nbformat": 4,
 "nbformat_minor": 2
}
